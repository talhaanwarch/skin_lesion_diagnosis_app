{
  "nbformat": 4,
  "nbformat_minor": 0,
  "metadata": {
    "colab": {
      "name": "pytorch_densenet121.ipynb",
      "provenance": [],
      "collapsed_sections": [],
      "toc_visible": true,
      "include_colab_link": true
    },
    "kernelspec": {
      "name": "python3",
      "display_name": "Python 3"
    },
    "accelerator": "GPU",
    "widgets": {
      "application/vnd.jupyter.widget-state+json": {
        "c15fd727f607444abf415257750f4263": {
          "model_module": "@jupyter-widgets/controls",
          "model_name": "HBoxModel",
          "state": {
            "_view_name": "HBoxView",
            "_dom_classes": [],
            "_model_name": "HBoxModel",
            "_view_module": "@jupyter-widgets/controls",
            "_model_module_version": "1.5.0",
            "_view_count": null,
            "_view_module_version": "1.5.0",
            "box_style": "",
            "layout": "IPY_MODEL_38f2c23eca8d42c2a6500179697a3a62",
            "_model_module": "@jupyter-widgets/controls",
            "children": [
              "IPY_MODEL_64938add9fbb4061a59d3c10177ce85c",
              "IPY_MODEL_0d65181a206e4a22a2c255fcae653660"
            ]
          }
        },
        "38f2c23eca8d42c2a6500179697a3a62": {
          "model_module": "@jupyter-widgets/base",
          "model_name": "LayoutModel",
          "state": {
            "_view_name": "LayoutView",
            "grid_template_rows": null,
            "right": null,
            "justify_content": null,
            "_view_module": "@jupyter-widgets/base",
            "overflow": null,
            "_model_module_version": "1.2.0",
            "_view_count": null,
            "flex_flow": null,
            "width": null,
            "min_width": null,
            "border": null,
            "align_items": null,
            "bottom": null,
            "_model_module": "@jupyter-widgets/base",
            "top": null,
            "grid_column": null,
            "overflow_y": null,
            "overflow_x": null,
            "grid_auto_flow": null,
            "grid_area": null,
            "grid_template_columns": null,
            "flex": null,
            "_model_name": "LayoutModel",
            "justify_items": null,
            "grid_row": null,
            "max_height": null,
            "align_content": null,
            "visibility": null,
            "align_self": null,
            "height": null,
            "min_height": null,
            "padding": null,
            "grid_auto_rows": null,
            "grid_gap": null,
            "max_width": null,
            "order": null,
            "_view_module_version": "1.2.0",
            "grid_template_areas": null,
            "object_position": null,
            "object_fit": null,
            "grid_auto_columns": null,
            "margin": null,
            "display": null,
            "left": null
          }
        },
        "64938add9fbb4061a59d3c10177ce85c": {
          "model_module": "@jupyter-widgets/controls",
          "model_name": "FloatProgressModel",
          "state": {
            "_view_name": "ProgressView",
            "style": "IPY_MODEL_5475a2a6ada84f529da70c205ed5243f",
            "_dom_classes": [],
            "description": "100%",
            "_model_name": "FloatProgressModel",
            "bar_style": "success",
            "max": 32342954,
            "_view_module": "@jupyter-widgets/controls",
            "_model_module_version": "1.5.0",
            "value": 32342954,
            "_view_count": null,
            "_view_module_version": "1.5.0",
            "orientation": "horizontal",
            "min": 0,
            "description_tooltip": null,
            "_model_module": "@jupyter-widgets/controls",
            "layout": "IPY_MODEL_dd5c9b1600564b0a9681fe9c37e440de"
          }
        },
        "0d65181a206e4a22a2c255fcae653660": {
          "model_module": "@jupyter-widgets/controls",
          "model_name": "HTMLModel",
          "state": {
            "_view_name": "HTMLView",
            "style": "IPY_MODEL_b11e3ecfb72145899fcce7d494589ade",
            "_dom_classes": [],
            "description": "",
            "_model_name": "HTMLModel",
            "placeholder": "​",
            "_view_module": "@jupyter-widgets/controls",
            "_model_module_version": "1.5.0",
            "value": " 30.8M/30.8M [00:01&lt;00:00, 24.2MB/s]",
            "_view_count": null,
            "_view_module_version": "1.5.0",
            "description_tooltip": null,
            "_model_module": "@jupyter-widgets/controls",
            "layout": "IPY_MODEL_eaa2f44564ed4a01b500e3115cff7274"
          }
        },
        "5475a2a6ada84f529da70c205ed5243f": {
          "model_module": "@jupyter-widgets/controls",
          "model_name": "ProgressStyleModel",
          "state": {
            "_view_name": "StyleView",
            "_model_name": "ProgressStyleModel",
            "description_width": "initial",
            "_view_module": "@jupyter-widgets/base",
            "_model_module_version": "1.5.0",
            "_view_count": null,
            "_view_module_version": "1.2.0",
            "bar_color": null,
            "_model_module": "@jupyter-widgets/controls"
          }
        },
        "dd5c9b1600564b0a9681fe9c37e440de": {
          "model_module": "@jupyter-widgets/base",
          "model_name": "LayoutModel",
          "state": {
            "_view_name": "LayoutView",
            "grid_template_rows": null,
            "right": null,
            "justify_content": null,
            "_view_module": "@jupyter-widgets/base",
            "overflow": null,
            "_model_module_version": "1.2.0",
            "_view_count": null,
            "flex_flow": null,
            "width": null,
            "min_width": null,
            "border": null,
            "align_items": null,
            "bottom": null,
            "_model_module": "@jupyter-widgets/base",
            "top": null,
            "grid_column": null,
            "overflow_y": null,
            "overflow_x": null,
            "grid_auto_flow": null,
            "grid_area": null,
            "grid_template_columns": null,
            "flex": null,
            "_model_name": "LayoutModel",
            "justify_items": null,
            "grid_row": null,
            "max_height": null,
            "align_content": null,
            "visibility": null,
            "align_self": null,
            "height": null,
            "min_height": null,
            "padding": null,
            "grid_auto_rows": null,
            "grid_gap": null,
            "max_width": null,
            "order": null,
            "_view_module_version": "1.2.0",
            "grid_template_areas": null,
            "object_position": null,
            "object_fit": null,
            "grid_auto_columns": null,
            "margin": null,
            "display": null,
            "left": null
          }
        },
        "b11e3ecfb72145899fcce7d494589ade": {
          "model_module": "@jupyter-widgets/controls",
          "model_name": "DescriptionStyleModel",
          "state": {
            "_view_name": "StyleView",
            "_model_name": "DescriptionStyleModel",
            "description_width": "",
            "_view_module": "@jupyter-widgets/base",
            "_model_module_version": "1.5.0",
            "_view_count": null,
            "_view_module_version": "1.2.0",
            "_model_module": "@jupyter-widgets/controls"
          }
        },
        "eaa2f44564ed4a01b500e3115cff7274": {
          "model_module": "@jupyter-widgets/base",
          "model_name": "LayoutModel",
          "state": {
            "_view_name": "LayoutView",
            "grid_template_rows": null,
            "right": null,
            "justify_content": null,
            "_view_module": "@jupyter-widgets/base",
            "overflow": null,
            "_model_module_version": "1.2.0",
            "_view_count": null,
            "flex_flow": null,
            "width": null,
            "min_width": null,
            "border": null,
            "align_items": null,
            "bottom": null,
            "_model_module": "@jupyter-widgets/base",
            "top": null,
            "grid_column": null,
            "overflow_y": null,
            "overflow_x": null,
            "grid_auto_flow": null,
            "grid_area": null,
            "grid_template_columns": null,
            "flex": null,
            "_model_name": "LayoutModel",
            "justify_items": null,
            "grid_row": null,
            "max_height": null,
            "align_content": null,
            "visibility": null,
            "align_self": null,
            "height": null,
            "min_height": null,
            "padding": null,
            "grid_auto_rows": null,
            "grid_gap": null,
            "max_width": null,
            "order": null,
            "_view_module_version": "1.2.0",
            "grid_template_areas": null,
            "object_position": null,
            "object_fit": null,
            "grid_auto_columns": null,
            "margin": null,
            "display": null,
            "left": null
          }
        }
      }
    }
  },
  "cells": [
    {
      "cell_type": "markdown",
      "metadata": {
        "id": "view-in-github",
        "colab_type": "text"
      },
      "source": [
        "<a href=\"https://colab.research.google.com/github/talhaanwarch/skin_lesion_diagnosis_app/blob/master/pytorch_densenet121.ipynb\" target=\"_parent\"><img src=\"https://colab.research.google.com/assets/colab-badge.svg\" alt=\"Open In Colab\"/></a>"
      ]
    },
    {
      "cell_type": "code",
      "metadata": {
        "id": "EQv5UL1XwACl",
        "colab_type": "code",
        "colab": {
          "base_uri": "https://localhost:8080/",
          "height": 230
        },
        "outputId": "8f6528aa-c95a-47c8-9a02-9c3a153830ab"
      },
      "source": [
        "!wget https://md-datasets-cache-zipfiles-prod.s3.eu-west-1.amazonaws.com/zr7vgbcyr2-1.zip"
      ],
      "execution_count": 1,
      "outputs": [
        {
          "output_type": "stream",
          "text": [
            "--2020-07-15 16:39:45--  https://md-datasets-cache-zipfiles-prod.s3.eu-west-1.amazonaws.com/zr7vgbcyr2-1.zip\n",
            "Resolving md-datasets-cache-zipfiles-prod.s3.eu-west-1.amazonaws.com (md-datasets-cache-zipfiles-prod.s3.eu-west-1.amazonaws.com)... 52.218.40.160\n",
            "Connecting to md-datasets-cache-zipfiles-prod.s3.eu-west-1.amazonaws.com (md-datasets-cache-zipfiles-prod.s3.eu-west-1.amazonaws.com)|52.218.40.160|:443... connected.\n",
            "HTTP request sent, awaiting response... 200 OK\n",
            "Length: 3593344681 (3.3G) [application/octet-stream]\n",
            "Saving to: ‘zr7vgbcyr2-1.zip’\n",
            "\n",
            "zr7vgbcyr2-1.zip    100%[===================>]   3.35G  24.7MB/s    in 60s     \n",
            "\n",
            "2020-07-15 16:40:46 (57.2 MB/s) - ‘zr7vgbcyr2-1.zip’ saved [3593344681/3593344681]\n",
            "\n"
          ],
          "name": "stdout"
        }
      ]
    },
    {
      "cell_type": "code",
      "metadata": {
        "id": "6-BEKs-s-nWE",
        "colab_type": "code",
        "colab": {
          "base_uri": "https://localhost:8080/",
          "height": 248
        },
        "outputId": "721d1117-b115-417b-b934-ad46562212e9"
      },
      "source": [
        "!pip install efficientnet_pytorch"
      ],
      "execution_count": 2,
      "outputs": [
        {
          "output_type": "stream",
          "text": [
            "Collecting efficientnet_pytorch\n",
            "  Downloading https://files.pythonhosted.org/packages/b8/cb/0309a6e3d404862ae4bc017f89645cf150ac94c14c88ef81d215c8e52925/efficientnet_pytorch-0.6.3.tar.gz\n",
            "Requirement already satisfied: torch in /usr/local/lib/python3.6/dist-packages (from efficientnet_pytorch) (1.5.1+cu101)\n",
            "Requirement already satisfied: numpy in /usr/local/lib/python3.6/dist-packages (from torch->efficientnet_pytorch) (1.18.5)\n",
            "Requirement already satisfied: future in /usr/local/lib/python3.6/dist-packages (from torch->efficientnet_pytorch) (0.16.0)\n",
            "Building wheels for collected packages: efficientnet-pytorch\n",
            "  Building wheel for efficientnet-pytorch (setup.py) ... \u001b[?25l\u001b[?25hdone\n",
            "  Created wheel for efficientnet-pytorch: filename=efficientnet_pytorch-0.6.3-cp36-none-any.whl size=12422 sha256=dd350892b130ca2d10da5f971380454ae3dbbacfa8fa83324b16e4612d4e7aa6\n",
            "  Stored in directory: /root/.cache/pip/wheels/42/1e/a9/2a578ba9ad04e776e80bf0f70d8a7f4c29ec0718b92d8f6ccd\n",
            "Successfully built efficientnet-pytorch\n",
            "Installing collected packages: efficientnet-pytorch\n",
            "Successfully installed efficientnet-pytorch-0.6.3\n"
          ],
          "name": "stdout"
        }
      ]
    },
    {
      "cell_type": "code",
      "metadata": {
        "id": "tYWmNKlXw_oT",
        "colab_type": "code",
        "colab": {}
      },
      "source": [
        "%%capture\n",
        "!unzip zr7vgbcyr2-1.zip"
      ],
      "execution_count": 3,
      "outputs": []
    },
    {
      "cell_type": "code",
      "metadata": {
        "id": "vN6Epg2vyCn8",
        "colab_type": "code",
        "colab": {}
      },
      "source": [
        "!mkdir data"
      ],
      "execution_count": 4,
      "outputs": []
    },
    {
      "cell_type": "code",
      "metadata": {
        "id": "iBppTyVGxkoQ",
        "colab_type": "code",
        "colab": {}
      },
      "source": [
        "%%capture\n",
        "!unzip /content/images/imgs_part_1.zip\n",
        "!unzip /content/images/imgs_part_2.zip\n",
        "!unzip /content/images/imgs_part_3.zip\n"
      ],
      "execution_count": 5,
      "outputs": []
    },
    {
      "cell_type": "code",
      "metadata": {
        "id": "LJv2jH4GyjDP",
        "colab_type": "code",
        "colab": {}
      },
      "source": [
        "!mv  /content/imgs_part_1/* /content/data\n",
        "!mv  /content/imgs_part_2/* /content/data\n",
        "!mv  /content/imgs_part_3/* /content/data\n"
      ],
      "execution_count": 6,
      "outputs": []
    },
    {
      "cell_type": "code",
      "metadata": {
        "id": "Ti7ELY8gziN1",
        "colab_type": "code",
        "colab": {}
      },
      "source": [
        "!rm -r /content/images"
      ],
      "execution_count": 7,
      "outputs": []
    },
    {
      "cell_type": "code",
      "metadata": {
        "id": "UInHHdv-0ROR",
        "colab_type": "code",
        "colab": {
          "base_uri": "https://localhost:8080/",
          "height": 219
        },
        "outputId": "7f6e7c17-2686-43a1-a297-26ad0f40b793"
      },
      "source": [
        "import pandas as pd\n",
        "import numpy as np\n",
        "import matplotlib.pyplot as plt\n",
        "\n",
        "df=pd.read_csv('/content/metadata.csv')\n",
        "df.head()"
      ],
      "execution_count": 8,
      "outputs": [
        {
          "output_type": "execute_result",
          "data": {
            "text/html": [
              "<div>\n",
              "<style scoped>\n",
              "    .dataframe tbody tr th:only-of-type {\n",
              "        vertical-align: middle;\n",
              "    }\n",
              "\n",
              "    .dataframe tbody tr th {\n",
              "        vertical-align: top;\n",
              "    }\n",
              "\n",
              "    .dataframe thead th {\n",
              "        text-align: right;\n",
              "    }\n",
              "</style>\n",
              "<table border=\"1\" class=\"dataframe\">\n",
              "  <thead>\n",
              "    <tr style=\"text-align: right;\">\n",
              "      <th></th>\n",
              "      <th>patient_id</th>\n",
              "      <th>lesion_id</th>\n",
              "      <th>smoke</th>\n",
              "      <th>drink</th>\n",
              "      <th>background_father</th>\n",
              "      <th>background_mother</th>\n",
              "      <th>age</th>\n",
              "      <th>pesticide</th>\n",
              "      <th>gender</th>\n",
              "      <th>skin_cancer_history</th>\n",
              "      <th>cancer_history</th>\n",
              "      <th>has_piped_water</th>\n",
              "      <th>has_sewage_system</th>\n",
              "      <th>fitspatrick</th>\n",
              "      <th>region</th>\n",
              "      <th>diameter_1</th>\n",
              "      <th>diameter_2</th>\n",
              "      <th>diagnostic</th>\n",
              "      <th>itch</th>\n",
              "      <th>grew</th>\n",
              "      <th>hurt</th>\n",
              "      <th>changed</th>\n",
              "      <th>bleed</th>\n",
              "      <th>elevation</th>\n",
              "      <th>img_id</th>\n",
              "      <th>biopsed</th>\n",
              "    </tr>\n",
              "  </thead>\n",
              "  <tbody>\n",
              "    <tr>\n",
              "      <th>0</th>\n",
              "      <td>PAT_1516</td>\n",
              "      <td>1765</td>\n",
              "      <td>NaN</td>\n",
              "      <td>NaN</td>\n",
              "      <td>NaN</td>\n",
              "      <td>NaN</td>\n",
              "      <td>8</td>\n",
              "      <td>NaN</td>\n",
              "      <td>NaN</td>\n",
              "      <td>NaN</td>\n",
              "      <td>NaN</td>\n",
              "      <td>NaN</td>\n",
              "      <td>NaN</td>\n",
              "      <td>NaN</td>\n",
              "      <td>ARM</td>\n",
              "      <td>NaN</td>\n",
              "      <td>NaN</td>\n",
              "      <td>NEV</td>\n",
              "      <td>False</td>\n",
              "      <td>False</td>\n",
              "      <td>False</td>\n",
              "      <td>False</td>\n",
              "      <td>False</td>\n",
              "      <td>False</td>\n",
              "      <td>PAT_1516_1765_530.png</td>\n",
              "      <td>False</td>\n",
              "    </tr>\n",
              "    <tr>\n",
              "      <th>1</th>\n",
              "      <td>PAT_46</td>\n",
              "      <td>881</td>\n",
              "      <td>False</td>\n",
              "      <td>False</td>\n",
              "      <td>POMERANIA</td>\n",
              "      <td>POMERANIA</td>\n",
              "      <td>55</td>\n",
              "      <td>False</td>\n",
              "      <td>FEMALE</td>\n",
              "      <td>True</td>\n",
              "      <td>True</td>\n",
              "      <td>True</td>\n",
              "      <td>True</td>\n",
              "      <td>3.0</td>\n",
              "      <td>NECK</td>\n",
              "      <td>6.0</td>\n",
              "      <td>5.0</td>\n",
              "      <td>BCC</td>\n",
              "      <td>True</td>\n",
              "      <td>True</td>\n",
              "      <td>False</td>\n",
              "      <td>True</td>\n",
              "      <td>True</td>\n",
              "      <td>True</td>\n",
              "      <td>PAT_46_881_939.png</td>\n",
              "      <td>True</td>\n",
              "    </tr>\n",
              "    <tr>\n",
              "      <th>2</th>\n",
              "      <td>PAT_1545</td>\n",
              "      <td>1867</td>\n",
              "      <td>NaN</td>\n",
              "      <td>NaN</td>\n",
              "      <td>NaN</td>\n",
              "      <td>NaN</td>\n",
              "      <td>77</td>\n",
              "      <td>NaN</td>\n",
              "      <td>NaN</td>\n",
              "      <td>NaN</td>\n",
              "      <td>NaN</td>\n",
              "      <td>NaN</td>\n",
              "      <td>NaN</td>\n",
              "      <td>NaN</td>\n",
              "      <td>FACE</td>\n",
              "      <td>NaN</td>\n",
              "      <td>NaN</td>\n",
              "      <td>ACK</td>\n",
              "      <td>True</td>\n",
              "      <td>False</td>\n",
              "      <td>False</td>\n",
              "      <td>False</td>\n",
              "      <td>False</td>\n",
              "      <td>False</td>\n",
              "      <td>PAT_1545_1867_547.png</td>\n",
              "      <td>False</td>\n",
              "    </tr>\n",
              "    <tr>\n",
              "      <th>3</th>\n",
              "      <td>PAT_1989</td>\n",
              "      <td>4061</td>\n",
              "      <td>NaN</td>\n",
              "      <td>NaN</td>\n",
              "      <td>NaN</td>\n",
              "      <td>NaN</td>\n",
              "      <td>75</td>\n",
              "      <td>NaN</td>\n",
              "      <td>NaN</td>\n",
              "      <td>NaN</td>\n",
              "      <td>NaN</td>\n",
              "      <td>NaN</td>\n",
              "      <td>NaN</td>\n",
              "      <td>NaN</td>\n",
              "      <td>HAND</td>\n",
              "      <td>NaN</td>\n",
              "      <td>NaN</td>\n",
              "      <td>ACK</td>\n",
              "      <td>True</td>\n",
              "      <td>False</td>\n",
              "      <td>False</td>\n",
              "      <td>False</td>\n",
              "      <td>False</td>\n",
              "      <td>False</td>\n",
              "      <td>PAT_1989_4061_934.png</td>\n",
              "      <td>False</td>\n",
              "    </tr>\n",
              "    <tr>\n",
              "      <th>4</th>\n",
              "      <td>PAT_684</td>\n",
              "      <td>1302</td>\n",
              "      <td>False</td>\n",
              "      <td>True</td>\n",
              "      <td>POMERANIA</td>\n",
              "      <td>POMERANIA</td>\n",
              "      <td>79</td>\n",
              "      <td>False</td>\n",
              "      <td>MALE</td>\n",
              "      <td>True</td>\n",
              "      <td>False</td>\n",
              "      <td>False</td>\n",
              "      <td>False</td>\n",
              "      <td>1.0</td>\n",
              "      <td>FOREARM</td>\n",
              "      <td>5.0</td>\n",
              "      <td>5.0</td>\n",
              "      <td>BCC</td>\n",
              "      <td>True</td>\n",
              "      <td>True</td>\n",
              "      <td>False</td>\n",
              "      <td>False</td>\n",
              "      <td>True</td>\n",
              "      <td>True</td>\n",
              "      <td>PAT_684_1302_588.png</td>\n",
              "      <td>True</td>\n",
              "    </tr>\n",
              "  </tbody>\n",
              "</table>\n",
              "</div>"
            ],
            "text/plain": [
              "  patient_id  lesion_id  smoke  ... elevation                 img_id biopsed\n",
              "0   PAT_1516       1765    NaN  ...     False  PAT_1516_1765_530.png   False\n",
              "1     PAT_46        881  False  ...      True     PAT_46_881_939.png    True\n",
              "2   PAT_1545       1867    NaN  ...     False  PAT_1545_1867_547.png   False\n",
              "3   PAT_1989       4061    NaN  ...     False  PAT_1989_4061_934.png   False\n",
              "4    PAT_684       1302  False  ...      True   PAT_684_1302_588.png    True\n",
              "\n",
              "[5 rows x 26 columns]"
            ]
          },
          "metadata": {
            "tags": []
          },
          "execution_count": 8
        }
      ]
    },
    {
      "cell_type": "code",
      "metadata": {
        "id": "eOIW6K1E0h45",
        "colab_type": "code",
        "colab": {}
      },
      "source": [
        "import random\n",
        "from PIL import Image\n",
        "import torch\n",
        "import torch.nn as nn\n",
        "import torchvision\n",
        "import PIL"
      ],
      "execution_count": 9,
      "outputs": []
    },
    {
      "cell_type": "code",
      "metadata": {
        "id": "N_oLXGCACItD",
        "colab_type": "code",
        "colab": {
          "base_uri": "https://localhost:8080/",
          "height": 70
        },
        "outputId": "ab56ad55-b479-4969-ccb7-2cb255767f8b"
      },
      "source": [
        "print(torch.__version__)\n",
        "print(torchvision.__version__)\n",
        "print(PIL.__version__)"
      ],
      "execution_count": 10,
      "outputs": [
        {
          "output_type": "stream",
          "text": [
            "1.5.1+cu101\n",
            "0.6.1+cu101\n",
            "7.0.0\n"
          ],
          "name": "stdout"
        }
      ]
    },
    {
      "cell_type": "code",
      "metadata": {
        "id": "PDM3Ssg-2X3l",
        "colab_type": "code",
        "colab": {}
      },
      "source": [
        "img_id=df['img_id']\n",
        "img_label=df['diagnostic']"
      ],
      "execution_count": 11,
      "outputs": []
    },
    {
      "cell_type": "code",
      "metadata": {
        "id": "2TF1HxdF-2V3",
        "colab_type": "code",
        "colab": {
          "base_uri": "https://localhost:8080/",
          "height": 140
        },
        "outputId": "784a7760-1bfc-47e3-dfde-1796a0134db9"
      },
      "source": [
        "cls=img_label.value_counts()\n",
        "cls_len=len(cls)\n",
        "cls"
      ],
      "execution_count": 12,
      "outputs": [
        {
          "output_type": "execute_result",
          "data": {
            "text/plain": [
              "BCC    845\n",
              "ACK    730\n",
              "NEV    244\n",
              "SEK    235\n",
              "SCC    192\n",
              "MEL     52\n",
              "Name: diagnostic, dtype: int64"
            ]
          },
          "metadata": {
            "tags": []
          },
          "execution_count": 12
        }
      ]
    },
    {
      "cell_type": "code",
      "metadata": {
        "id": "WVcVbZId4hv3",
        "colab_type": "code",
        "colab": {
          "base_uri": "https://localhost:8080/",
          "height": 122
        },
        "outputId": "fa1486c5-c889-4e64-c52a-e9c4281f0ea7"
      },
      "source": [
        "img_id.head()"
      ],
      "execution_count": 13,
      "outputs": [
        {
          "output_type": "execute_result",
          "data": {
            "text/plain": [
              "0    PAT_1516_1765_530.png\n",
              "1       PAT_46_881_939.png\n",
              "2    PAT_1545_1867_547.png\n",
              "3    PAT_1989_4061_934.png\n",
              "4     PAT_684_1302_588.png\n",
              "Name: img_id, dtype: object"
            ]
          },
          "metadata": {
            "tags": []
          },
          "execution_count": 13
        }
      ]
    },
    {
      "cell_type": "code",
      "metadata": {
        "id": "HSR0Ixdp4ke0",
        "colab_type": "code",
        "colab": {}
      },
      "source": [
        "img_id='/content/data/'+img_id"
      ],
      "execution_count": 14,
      "outputs": []
    },
    {
      "cell_type": "code",
      "metadata": {
        "id": "RdGSpUg_4uRD",
        "colab_type": "code",
        "colab": {
          "base_uri": "https://localhost:8080/",
          "height": 122
        },
        "outputId": "40ecce80-8028-4dcd-ea91-46085c48acc9"
      },
      "source": [
        "img_id.head()"
      ],
      "execution_count": 15,
      "outputs": [
        {
          "output_type": "execute_result",
          "data": {
            "text/plain": [
              "0    /content/data/PAT_1516_1765_530.png\n",
              "1       /content/data/PAT_46_881_939.png\n",
              "2    /content/data/PAT_1545_1867_547.png\n",
              "3    /content/data/PAT_1989_4061_934.png\n",
              "4     /content/data/PAT_684_1302_588.png\n",
              "Name: img_id, dtype: object"
            ]
          },
          "metadata": {
            "tags": []
          },
          "execution_count": 15
        }
      ]
    },
    {
      "cell_type": "code",
      "metadata": {
        "id": "ynaRJJDR2lJ_",
        "colab_type": "code",
        "colab": {
          "base_uri": "https://localhost:8080/",
          "height": 52
        },
        "outputId": "ec8ec594-50f1-470f-f93b-8cf36949664e"
      },
      "source": [
        "print(len(img_id))\n",
        "print(len(img_label))"
      ],
      "execution_count": 16,
      "outputs": [
        {
          "output_type": "stream",
          "text": [
            "2298\n",
            "2298\n"
          ],
          "name": "stdout"
        }
      ]
    },
    {
      "cell_type": "code",
      "metadata": {
        "id": "VFWQ2JRAQs59",
        "colab_type": "code",
        "colab": {}
      },
      "source": [
        "img_label=img_label.map({'BCC':0,'ACK':1,'NEV':2,'SEK':3,'SCC':4,'MEL':5})"
      ],
      "execution_count": 17,
      "outputs": []
    },
    {
      "cell_type": "code",
      "metadata": {
        "id": "q28LeHS981zX",
        "colab_type": "code",
        "colab": {}
      },
      "source": [
        "# from sklearn.preprocessing import OneHotEncoder,LabelEncoder\n",
        "# # enc=OneHotEncoder(sparse=False,dtype=np.int)\n",
        "# # img_label=enc.fit_transform(img_label.values.reshape(-1,1))\n",
        "# enc=LabelEncoder()\n",
        "# img_label=enc.fit_transform(img_label)"
      ],
      "execution_count": 18,
      "outputs": []
    },
    {
      "cell_type": "code",
      "metadata": {
        "id": "otg4FK3DXg7M",
        "colab_type": "code",
        "colab": {
          "base_uri": "https://localhost:8080/",
          "height": 122
        },
        "outputId": "cd0c10c0-73a1-46a4-ca95-6535c3890c14"
      },
      "source": [
        "img_label[0:5]"
      ],
      "execution_count": 19,
      "outputs": [
        {
          "output_type": "execute_result",
          "data": {
            "text/plain": [
              "0    2\n",
              "1    0\n",
              "2    1\n",
              "3    1\n",
              "4    0\n",
              "Name: diagnostic, dtype: int64"
            ]
          },
          "metadata": {
            "tags": []
          },
          "execution_count": 19
        }
      ]
    },
    {
      "cell_type": "code",
      "metadata": {
        "id": "QhorRPG_1xWq",
        "colab_type": "code",
        "colab": {}
      },
      "source": [
        "class dfloader(torch.utils.data.Dataset):\n",
        "    \n",
        "    def __init__(self,img_id,img_label,transform=None):\n",
        "        self.img_id = img_id    \n",
        "        self.img_label=img_label\n",
        "        self.transform=transform\n",
        "        \n",
        "    def __getitem__(self,index):\n",
        "        if type(index) == torch.Tensor:\n",
        "          index = index.item()\n",
        "        img_ind=self.img_id[index]\n",
        "        label_ind=self.img_label[index]\n",
        "\n",
        "        img = Image.open(img_ind).convert('RGB')\n",
        "      \n",
        "        if self.transform:\n",
        "           img=self.transform(img) \n",
        "  \n",
        "        return img ,label_ind\n",
        "    \n",
        "    def __len__(self):\n",
        "        return len(self.img_id)"
      ],
      "execution_count": 20,
      "outputs": []
    },
    {
      "cell_type": "code",
      "metadata": {
        "id": "60Sh05Qq30p2",
        "colab_type": "code",
        "colab": {}
      },
      "source": [
        "from torchvision import transforms \n",
        "aug=transforms.Compose([\n",
        "                        transforms.Resize((224,224)),\n",
        "                        #transforms.CenterCrop(10),\n",
        "                        transforms.RandomAffine(degrees=0, translate=None, scale=(1,1.5), shear=None, resample=Image.NEAREST, fillcolor=0),\n",
        "                        transforms.RandomHorizontalFlip(),transforms.RandomVerticalFlip(),transforms.RandomRotation(360),\n",
        "                        transforms.ToTensor(),\n",
        "                        transforms.Normalize([0.5820, 0.4512, 0.4023], [0.2217, 0.1858, 0.1705]),\n",
        "\n",
        "                        ])\n",
        "\n",
        "\n",
        "data=dfloader(img_id,img_label,transform=aug)"
      ],
      "execution_count": 21,
      "outputs": []
    },
    {
      "cell_type": "code",
      "metadata": {
        "id": "5DhL1PQ941yx",
        "colab_type": "code",
        "colab": {
          "base_uri": "https://localhost:8080/",
          "height": 34
        },
        "outputId": "91545e87-fa4e-4d0c-96ba-bc9094973af4"
      },
      "source": [
        "len(data)"
      ],
      "execution_count": 22,
      "outputs": [
        {
          "output_type": "execute_result",
          "data": {
            "text/plain": [
              "2298"
            ]
          },
          "metadata": {
            "tags": []
          },
          "execution_count": 22
        }
      ]
    },
    {
      "cell_type": "code",
      "metadata": {
        "id": "sHImCHd8BZoj",
        "colab_type": "code",
        "colab": {
          "base_uri": "https://localhost:8080/",
          "height": 34
        },
        "outputId": "3259b907-933e-4543-9314-16508ba5d267"
      },
      "source": [
        "from torch.utils.data import random_split\n",
        "train_dataset,val_dataset,test_dataset=random_split(data, lengths=\n",
        "                                       [int(np.floor(len(data)*0.75)),int(np.ceil(len(data)*0.15)),int(np.ceil(len(data)*0.10))])\n",
        "print('no of images in train dataset is ',len(train_dataset), \n",
        "      'val dataset is',len(val_dataset),\n",
        "      'and test dataset is',len(test_dataset))"
      ],
      "execution_count": 23,
      "outputs": [
        {
          "output_type": "stream",
          "text": [
            "no of images in train dataset is  1723 val dataset is 345 and test dataset is 230\n"
          ],
          "name": "stdout"
        }
      ]
    },
    {
      "cell_type": "code",
      "metadata": {
        "id": "AMIcuQEn43lX",
        "colab_type": "code",
        "colab": {}
      },
      "source": [
        "from torch.utils.data.dataloader import DataLoader\n",
        "train_loader = DataLoader(train_dataset,shuffle=True,num_workers=0,batch_size=32)\n",
        "val_loader = DataLoader(val_dataset,shuffle=True,num_workers=0,batch_size=32)\n",
        "test_loader = DataLoader(test_dataset,shuffle=False,num_workers=0,batch_size=len(test_dataset))\n"
      ],
      "execution_count": 24,
      "outputs": []
    },
    {
      "cell_type": "code",
      "metadata": {
        "id": "hQPIv1SG5Qis",
        "colab_type": "code",
        "colab": {}
      },
      "source": [
        "example_batch = iter(train_loader)\n",
        "example_batch = next(example_batch)"
      ],
      "execution_count": 25,
      "outputs": []
    },
    {
      "cell_type": "code",
      "metadata": {
        "id": "QMz20VuK8Nep",
        "colab_type": "code",
        "colab": {
          "base_uri": "https://localhost:8080/",
          "height": 34
        },
        "outputId": "f92f5213-427a-4336-9e7e-4bd52be738b2"
      },
      "source": [
        "example_batch[0].shape,example_batch[1].shape"
      ],
      "execution_count": 26,
      "outputs": [
        {
          "output_type": "execute_result",
          "data": {
            "text/plain": [
              "(torch.Size([32, 3, 224, 224]), torch.Size([32]))"
            ]
          },
          "metadata": {
            "tags": []
          },
          "execution_count": 26
        }
      ]
    },
    {
      "cell_type": "code",
      "metadata": {
        "id": "Te2IDeZw5WzD",
        "colab_type": "code",
        "colab": {
          "base_uri": "https://localhost:8080/",
          "height": 324
        },
        "outputId": "c6e3c43d-b607-47ce-d065-ed8379b1a535"
      },
      "source": [
        "\n",
        "plt.imshow(torchvision.utils.make_grid(example_batch[0],nrow=4).permute(1, 2, 0))"
      ],
      "execution_count": 27,
      "outputs": [
        {
          "output_type": "stream",
          "text": [
            "Clipping input data to the valid range for imshow with RGB data ([0..1] for floats or [0..255] for integers).\n"
          ],
          "name": "stderr"
        },
        {
          "output_type": "execute_result",
          "data": {
            "text/plain": [
              "<matplotlib.image.AxesImage at 0x7fe61df617f0>"
            ]
          },
          "metadata": {
            "tags": []
          },
          "execution_count": 27
        },
        {
          "output_type": "display_data",
          "data": {
            "image/png": "[encoded data removed]",
            "text/plain": [
              "<Figure size 432x288 with 1 Axes>"
            ]
          },
          "metadata": {
            "tags": [],
            "needs_background": "light"
          }
        }
      ]
    },
    {
      "cell_type": "code",
      "metadata": {
        "id": "Fg2D7wMo8FPs",
        "colab_type": "code",
        "colab": {
          "base_uri": "https://localhost:8080/",
          "height": 52
        },
        "outputId": "90013ec9-d505-4433-91ad-dfc1742997f5"
      },
      "source": [
        "example_batch[1]"
      ],
      "execution_count": 28,
      "outputs": [
        {
          "output_type": "execute_result",
          "data": {
            "text/plain": [
              "tensor([1, 1, 3, 4, 0, 3, 3, 0, 0, 0, 0, 2, 2, 1, 1, 0, 1, 2, 0, 3, 3, 2, 2, 3,\n",
              "        4, 5, 0, 0, 1, 0, 2, 1])"
            ]
          },
          "metadata": {
            "tags": []
          },
          "execution_count": 28
        }
      ]
    },
    {
      "cell_type": "code",
      "metadata": {
        "id": "7A4o8s8hwnw4",
        "colab_type": "code",
        "colab": {}
      },
      "source": [
        "# mean = 0.\n",
        "# std = 0.\n",
        "# nb_samples = 0.\n",
        "# for data,_ in train_loader:\n",
        "#     batch_samples = data.size(0)\n",
        "#     data = data.view(batch_samples, data.size(1), -1)\n",
        "#     mean += data.mean(2).sum(0)\n",
        "#     std += data.std(2).sum(0)\n",
        "#     nb_samples += batch_samples\n",
        "\n",
        "# mean /= nb_samples\n",
        "# std /= nb_samples\n",
        "# mean,std"
      ],
      "execution_count": 29,
      "outputs": []
    },
    {
      "cell_type": "markdown",
      "metadata": {
        "id": "Pe1dzdLx-tRM",
        "colab_type": "text"
      },
      "source": [
        "# efficient model"
      ]
    },
    {
      "cell_type": "markdown",
      "metadata": {
        "id": "VrAZMxFedmQ8",
        "colab_type": "text"
      },
      "source": [
        "https://kobiso.github.io/Computer-Vision-Leaderboard/imagenet.html"
      ]
    },
    {
      "cell_type": "code",
      "metadata": {
        "id": "TrzDZQZE-uiz",
        "colab_type": "code",
        "colab": {}
      },
      "source": [
        "# from efficientnet_pytorch import EfficientNet\n",
        "# model = EfficientNet.from_pretrained('efficientnet-b3', num_classes=cls_len)"
      ],
      "execution_count": 30,
      "outputs": []
    },
    {
      "cell_type": "code",
      "metadata": {
        "id": "TX-TbIN1wwWh",
        "colab_type": "code",
        "colab": {}
      },
      "source": [
        "# #https://github.com/lukemelas/EfficientNet-PyTorch/issues/207\n",
        "# from efficientnet_pytorch import EfficientNet\n",
        "# model = EfficientNet.from_pretrained('efficientnet-b3')\n",
        "# model._fc = nn.Sequential(nn.Linear(model._fc.in_features, 512), \n",
        "#                                            nn.ReLU(),  \n",
        "#                                            nn.Dropout(0.25),\n",
        "#                                            nn.Linear(512, 128), \n",
        "#                                            nn.ReLU(),  \n",
        "#                                            nn.Dropout(0.20), \n",
        "#                                            nn.Linear(128,cls_len))"
      ],
      "execution_count": 31,
      "outputs": []
    },
    {
      "cell_type": "code",
      "metadata": {
        "id": "MgGH7eGjaP5Y",
        "colab_type": "code",
        "colab": {}
      },
      "source": [
        "# import torchvision.models as models\n",
        "# import torch.nn as nn\n",
        "# model = models.resnet18(pretrained=True)\n",
        "# #model.fc = torch.nn.Linear(512, cls_len)\n",
        "# model.fc=nn.Sequential(\n",
        "#                       nn.Linear(512, 256), \n",
        "#                       nn.ReLU(), \n",
        "#                       nn.Dropout(0.4),\n",
        "#                       nn.Linear(256, cls_len),                   \n",
        "#                       nn.LogSoftmax(dim=1))\n",
        "# #model.classifier[1] = torch.nn.Linear(model.last_channel, cls_len)\n",
        "\n",
        "# # #https://pytorch.org/tutorials/beginner/finetuning_torchvision_models_tutorial.html"
      ],
      "execution_count": 32,
      "outputs": []
    },
    {
      "cell_type": "code",
      "metadata": {
        "id": "pnLTv_cAOJE8",
        "colab_type": "code",
        "colab": {
          "base_uri": "https://localhost:8080/",
          "height": 104,
          "referenced_widgets": [
            "c15fd727f607444abf415257750f4263",
            "38f2c23eca8d42c2a6500179697a3a62",
            "64938add9fbb4061a59d3c10177ce85c",
            "0d65181a206e4a22a2c255fcae653660",
            "5475a2a6ada84f529da70c205ed5243f",
            "dd5c9b1600564b0a9681fe9c37e440de",
            "b11e3ecfb72145899fcce7d494589ade",
            "eaa2f44564ed4a01b500e3115cff7274"
          ]
        },
        "outputId": "4040f183-91c9-48f1-fd1f-a4e9646deed7"
      },
      "source": [
        "import torchvision.models as models\n",
        "import torch.nn as nn\n",
        "model=models.densenet121(pretrained=True)\n",
        "num_ftrs = model.classifier.in_features\n",
        "model.classifier = nn.Sequential(\n",
        "                      nn.Linear(num_ftrs, 256), \n",
        "                      nn.ReLU(), \n",
        "\n",
        "                      nn.Linear(256, cls_len),                   \n",
        "                      nn.LogSoftmax(dim=1))"
      ],
      "execution_count": 33,
      "outputs": [
        {
          "output_type": "stream",
          "text": [
            "Downloading: \"https://download.pytorch.org/models/densenet121-a639ec97.pth\" to /root/.cache/torch/checkpoints/densenet121-a639ec97.pth\n"
          ],
          "name": "stderr"
        },
        {
          "output_type": "display_data",
          "data": {
            "application/vnd.jupyter.widget-view+json": {
              "model_id": "c15fd727f607444abf415257750f4263",
              "version_minor": 0,
              "version_major": 2
            },
            "text/plain": [
              "HBox(children=(FloatProgress(value=0.0, max=32342954.0), HTML(value='')))"
            ]
          },
          "metadata": {
            "tags": []
          }
        },
        {
          "output_type": "stream",
          "text": [
            "\n"
          ],
          "name": "stdout"
        }
      ]
    },
    {
      "cell_type": "code",
      "metadata": {
        "id": "8Xts7GyJObhb",
        "colab_type": "code",
        "colab": {
          "base_uri": "https://localhost:8080/",
          "height": 87
        },
        "outputId": "e846593a-7bc6-4875-cb98-b5320659dda9"
      },
      "source": [
        "print(torch.cuda.is_available())\n",
        "print(torch.cuda.current_device())\n",
        "print(torch.cuda.device_count())\n",
        "print(torch.cuda.get_device_name(0))"
      ],
      "execution_count": 34,
      "outputs": [
        {
          "output_type": "stream",
          "text": [
            "True\n",
            "0\n",
            "1\n",
            "Tesla K80\n"
          ],
          "name": "stdout"
        }
      ]
    },
    {
      "cell_type": "code",
      "metadata": {
        "id": "xWklRRbsOMww",
        "colab_type": "code",
        "colab": {}
      },
      "source": [
        "device=torch.device('cuda')"
      ],
      "execution_count": 35,
      "outputs": []
    },
    {
      "cell_type": "code",
      "metadata": {
        "id": "2mnAKu9sOu5l",
        "colab_type": "code",
        "colab": {}
      },
      "source": [
        "model=model.to(device)"
      ],
      "execution_count": 36,
      "outputs": []
    },
    {
      "cell_type": "code",
      "metadata": {
        "id": "CiYnkW1VYhzS",
        "colab_type": "code",
        "colab": {
          "base_uri": "https://localhost:8080/",
          "height": 54
        },
        "outputId": "bff5e8b9-1a36-48c3-c1c6-1b2950701ee1"
      },
      "source": [
        "nSamples = cls.tolist()\n",
        "normedWeights = [1 - (x / sum(nSamples)) for x in nSamples]\n",
        "print(normedWeights)\n",
        "#normedWeights = torch.FloatTensor(normedWeights).to(device)"
      ],
      "execution_count": 37,
      "outputs": [
        {
          "output_type": "stream",
          "text": [
            "[0.6322889469103568, 0.6823324630113141, 0.8938207136640557, 0.8977371627502175, 0.9164490861618799, 0.9773716275021758]\n"
          ],
          "name": "stdout"
        }
      ]
    },
    {
      "cell_type": "code",
      "metadata": {
        "id": "R0Whesxjw4Pb",
        "colab_type": "code",
        "colab": {}
      },
      "source": [
        "weights=[0.5,0.7,0.9,0.9,0.95,0.99]\n",
        "normedWeights = torch.FloatTensor(weights).to(device)"
      ],
      "execution_count": 38,
      "outputs": []
    },
    {
      "cell_type": "code",
      "metadata": {
        "id": "QQI827SLTJl5",
        "colab_type": "code",
        "colab": {}
      },
      "source": [
        "criterion=torch.nn.CrossEntropyLoss(weight=normedWeights)\n",
        "opt=torch.optim.Adam(params=model.parameters(),lr=0.001)\n",
        "scheduler = torch.optim.lr_scheduler.ReduceLROnPlateau(opt,mode ='min',factor=0.5, patience=3, verbose=True)"
      ],
      "execution_count": 39,
      "outputs": []
    },
    {
      "cell_type": "code",
      "metadata": {
        "id": "vMQ6Az8dUllA",
        "colab_type": "code",
        "colab": {
          "base_uri": "https://localhost:8080/",
          "height": 34
        },
        "outputId": "204b00fe-226f-45ec-8f1d-f18e4a812ebc"
      },
      "source": [
        "for train_batch in train_loader:\n",
        "  train_img,train_label=train_batch\n",
        "  print(train_img.shape,train_label.shape)\n",
        "  break"
      ],
      "execution_count": 40,
      "outputs": [
        {
          "output_type": "stream",
          "text": [
            "torch.Size([32, 3, 224, 224]) torch.Size([32])\n"
          ],
          "name": "stdout"
        }
      ]
    },
    {
      "cell_type": "code",
      "metadata": {
        "id": "cHW8JabmSkXh",
        "colab_type": "code",
        "colab": {
          "base_uri": "https://localhost:8080/",
          "height": 388
        },
        "outputId": "2106f31b-0d33-4b0a-8a5c-4f7ab2f3800c"
      },
      "source": [
        "from time import time\n",
        "train_loss_plt=[]\n",
        "val_loss_plt=[]\n",
        "train_acc_plt=[]\n",
        "val_acc_plt=[]\n",
        "for ep in range(20):\n",
        "  start=time()\n",
        "  #start training loop\n",
        "  train_loss_sum=0\n",
        "  train_acc_sum=0\n",
        "  for train_batch in train_loader:\n",
        "    train_img,train_label=train_batch\n",
        "    train_img,train_label = train_img.to(device),train_label.to(device)\n",
        "\n",
        "    train_out=model(train_img)\n",
        "    train_loss=criterion(train_out,train_label)\n",
        "    opt.zero_grad()\n",
        "    train_loss.backward()\n",
        "    opt.step()\n",
        "    train_loss_sum+=train_loss.item()\n",
        "    train_acc_sum += ((torch.max(train_out,dim=1)[1]==train_label).sum().item())/len(train_label)\n",
        "  #start validation loop\n",
        "  val_loss_sum=0\n",
        "  val_acc_sum=0\n",
        "  model.eval()\n",
        "  with torch.no_grad():\n",
        "    for val_image,val_label in val_loader:\n",
        "      val_image,val_label=val_image.to(device),val_label.to(device)\n",
        "      val_out=model(val_image)\n",
        "      val_loss=criterion(val_out,val_label)\n",
        "      val_loss_sum+=val_loss.item()\n",
        "      val_acc_sum+=((torch.max(val_out,dim=1)[1]==val_label).sum().item())/len(val_label)\n",
        "  end=np.round((time()-start)/60,2) #time in minute\n",
        "  model.train()\n",
        "  #calculate print and append the results for plotting purpose\n",
        "  val_avg_loss=np.round(val_loss_sum/len(val_loader),2)#val loss of all batches of one epoch\n",
        "  train_avg_loss=np.round(train_loss_sum/len(train_loader),2)# train loss of all batches of one epoch\n",
        "  train_avg_acc=np.round(train_acc_sum/len(train_loader),2)#train acc of all batches of one epoch\n",
        "  val_avg_acc=np.round(val_acc_sum/len(val_loader),2)#val acc of all batches of one epoch\n",
        "  scheduler.step(val_avg_loss)\n",
        "  print('Epoch {}, time {} , train acc  {}, train loss {} , val acc is {}, loss is {}, learning rate is {} '.format\n",
        "        (ep,end,train_avg_acc,train_avg_loss,val_avg_acc,val_avg_loss,opt.param_groups[0]['lr']))\n",
        "  train_loss_plt.append(train_avg_loss)  #append loss of training data  \n",
        "  val_loss_plt.append(val_avg_loss)     #append loss of validation data\n",
        "  train_acc_plt.append(train_avg_acc)  #append acc of training data  \n",
        "  val_acc_plt.append(val_avg_acc)     #append acc of validation data"
      ],
      "execution_count": 41,
      "outputs": [
        {
          "output_type": "stream",
          "text": [
            "Epoch 0, time 2.3 , train acc  0.49, train loss 1.4 , val acc is 0.42, loss is 3.63, learning rate is 0.001 \n",
            "Epoch 1, time 2.29 , train acc  0.58, train loss 1.22 , val acc is 0.64, loss is 1.06, learning rate is 0.001 \n",
            "Epoch 2, time 2.28 , train acc  0.61, train loss 1.12 , val acc is 0.56, loss is 1.25, learning rate is 0.001 \n",
            "Epoch 3, time 2.28 , train acc  0.63, train loss 1.05 , val acc is 0.64, loss is 1.01, learning rate is 0.001 \n",
            "Epoch 4, time 2.28 , train acc  0.64, train loss 1.01 , val acc is 0.65, loss is 0.98, learning rate is 0.001 \n",
            "Epoch 5, time 2.28 , train acc  0.65, train loss 1.01 , val acc is 0.66, loss is 0.91, learning rate is 0.001 \n",
            "Epoch 6, time 2.28 , train acc  0.67, train loss 0.94 , val acc is 0.69, loss is 0.93, learning rate is 0.001 \n",
            "Epoch 7, time 2.29 , train acc  0.7, train loss 0.92 , val acc is 0.69, loss is 0.89, learning rate is 0.001 \n",
            "Epoch 8, time 2.27 , train acc  0.66, train loss 0.93 , val acc is 0.68, loss is 0.9, learning rate is 0.001 \n",
            "Epoch 9, time 2.28 , train acc  0.68, train loss 0.87 , val acc is 0.7, loss is 0.84, learning rate is 0.001 \n",
            "Epoch 10, time 2.27 , train acc  0.68, train loss 0.89 , val acc is 0.73, loss is 0.85, learning rate is 0.001 \n",
            "Epoch 11, time 2.27 , train acc  0.7, train loss 0.86 , val acc is 0.72, loss is 0.8, learning rate is 0.001 \n",
            "Epoch 12, time 2.27 , train acc  0.71, train loss 0.84 , val acc is 0.72, loss is 0.84, learning rate is 0.001 \n",
            "Epoch 13, time 2.27 , train acc  0.71, train loss 0.82 , val acc is 0.66, loss is 0.95, learning rate is 0.001 \n",
            "Epoch 14, time 2.27 , train acc  0.7, train loss 0.83 , val acc is 0.71, loss is 0.86, learning rate is 0.001 \n",
            "Epoch 15, time 2.27 , train acc  0.73, train loss 0.81 , val acc is 0.71, loss is 0.77, learning rate is 0.001 \n",
            "Epoch 16, time 2.27 , train acc  0.72, train loss 0.78 , val acc is 0.66, loss is 0.93, learning rate is 0.001 \n",
            "Epoch 17, time 2.26 , train acc  0.71, train loss 0.81 , val acc is 0.66, loss is 0.9, learning rate is 0.001 \n",
            "Epoch 18, time 2.27 , train acc  0.73, train loss 0.74 , val acc is 0.71, loss is 0.81, learning rate is 0.001 \n",
            "Epoch 19, time 2.27 , train acc  0.73, train loss 0.75 , val acc is 0.71, loss is 0.76, learning rate is 0.001 \n"
          ],
          "name": "stdout"
        }
      ]
    },
    {
      "cell_type": "code",
      "metadata": {
        "id": "NQpIMFMbJlU6",
        "colab_type": "code",
        "colab": {
          "base_uri": "https://localhost:8080/",
          "height": 265
        },
        "outputId": "da5720a5-6471-4815-f655-07f0c8f04d07"
      },
      "source": [
        "plt.plot(train_loss_plt,label='train loss')\n",
        "plt.plot(val_loss_plt,label='val loss')\n",
        "plt.legend()\n",
        "plt.show()"
      ],
      "execution_count": 42,
      "outputs": [
        {
          "output_type": "display_data",
          "data": {
            "image/png": "[encoded data removed]",
            "text/plain": [
              "<Figure size 432x288 with 1 Axes>"
            ]
          },
          "metadata": {
            "tags": [],
            "needs_background": "light"
          }
        }
      ]
    },
    {
      "cell_type": "code",
      "metadata": {
        "id": "PscthCBSOmrk",
        "colab_type": "code",
        "colab": {
          "base_uri": "https://localhost:8080/",
          "height": 265
        },
        "outputId": "242cced6-3a81-40e2-c9dd-a1b88d4390b2"
      },
      "source": [
        "plt.plot(train_acc_plt,label='train acc')\n",
        "plt.plot(val_acc_plt,label='val acc')\n",
        "plt.legend()\n",
        "plt.show()"
      ],
      "execution_count": 43,
      "outputs": [
        {
          "output_type": "display_data",
          "data": {
            "image/png": "[encoded data removed]",
            "text/plain": [
              "<Figure size 432x288 with 1 Axes>"
            ]
          },
          "metadata": {
            "tags": [],
            "needs_background": "light"
          }
        }
      ]
    },
    {
      "cell_type": "code",
      "metadata": {
        "id": "IUMOHXj8O1O2",
        "colab_type": "code",
        "colab": {}
      },
      "source": [
        "torch.save(model, 'skin_model.pth')\n",
        "#"
      ],
      "execution_count": 44,
      "outputs": []
    },
    {
      "cell_type": "code",
      "metadata": {
        "id": "TgtCGl02RXoM",
        "colab_type": "code",
        "colab": {
          "base_uri": "https://localhost:8080/",
          "height": 34
        },
        "outputId": "4a77ef2c-cc7d-49cf-837b-6fb1be7308db"
      },
      "source": [
        "model.eval()\n",
        "with torch.no_grad():\n",
        "  for img,grnd_label in test_loader:\n",
        "    print(img.shape)\n",
        "    test_pred=model(img.to(device))\n"
      ],
      "execution_count": 45,
      "outputs": [
        {
          "output_type": "stream",
          "text": [
            "torch.Size([230, 3, 224, 224])\n"
          ],
          "name": "stdout"
        }
      ]
    },
    {
      "cell_type": "code",
      "metadata": {
        "id": "MfsZjsVLAoej",
        "colab_type": "code",
        "colab": {
          "base_uri": "https://localhost:8080/",
          "height": 34
        },
        "outputId": "008f6f03-21b3-4977-83e6-3877e527d73e"
      },
      "source": [
        "test_pred.shape,grnd_label.shape"
      ],
      "execution_count": 46,
      "outputs": [
        {
          "output_type": "execute_result",
          "data": {
            "text/plain": [
              "(torch.Size([230, 6]), torch.Size([230]))"
            ]
          },
          "metadata": {
            "tags": []
          },
          "execution_count": 46
        }
      ]
    },
    {
      "cell_type": "code",
      "metadata": {
        "id": "ibqboejtBJAh",
        "colab_type": "code",
        "colab": {}
      },
      "source": [
        "y_pred=torch.max(test_pred,dim=1)"
      ],
      "execution_count": 47,
      "outputs": []
    },
    {
      "cell_type": "code",
      "metadata": {
        "id": "LKQWA7kMBMqE",
        "colab_type": "code",
        "colab": {}
      },
      "source": [
        "y_pred=y_pred[1].cpu().numpy()"
      ],
      "execution_count": 48,
      "outputs": []
    },
    {
      "cell_type": "code",
      "metadata": {
        "id": "L5Dms2_xBXC6",
        "colab_type": "code",
        "colab": {}
      },
      "source": [
        "grnd_label=grnd_label.numpy()"
      ],
      "execution_count": 49,
      "outputs": []
    },
    {
      "cell_type": "code",
      "metadata": {
        "id": "aqPjJl8xBjSO",
        "colab_type": "code",
        "colab": {
          "base_uri": "https://localhost:8080/",
          "height": 52
        },
        "outputId": "30db8270-ae21-4eb7-dcb1-bac81331c494"
      },
      "source": [
        "from sklearn.metrics import accuracy_score,f1_score\n",
        "print(accuracy_score(grnd_label,y_pred))\n",
        "print(f1_score(grnd_label,y_pred,average='macro'))"
      ],
      "execution_count": 50,
      "outputs": [
        {
          "output_type": "stream",
          "text": [
            "0.6956521739130435\n",
            "0.6292655259665093\n"
          ],
          "name": "stdout"
        }
      ]
    },
    {
      "cell_type": "code",
      "metadata": {
        "id": "luWdnfe48PuD",
        "colab_type": "code",
        "colab": {
          "base_uri": "https://localhost:8080/",
          "height": 245
        },
        "outputId": "e4320d32-1cc5-456e-8366-044599468baf"
      },
      "source": [
        "from sklearn.metrics import classification_report\n",
        "print(classification_report(grnd_label,y_pred))\n"
      ],
      "execution_count": 51,
      "outputs": [
        {
          "output_type": "stream",
          "text": [
            "              precision    recall  f1-score   support\n",
            "\n",
            "           0       0.75      0.80      0.77        88\n",
            "           1       0.69      0.75      0.72        64\n",
            "           2       0.73      0.70      0.72        27\n",
            "           3       0.53      0.68      0.60        25\n",
            "           4       0.50      0.14      0.22        21\n",
            "           5       1.00      0.60      0.75         5\n",
            "\n",
            "    accuracy                           0.70       230\n",
            "   macro avg       0.70      0.61      0.63       230\n",
            "weighted avg       0.69      0.70      0.68       230\n",
            "\n"
          ],
          "name": "stdout"
        }
      ]
    },
    {
      "cell_type": "code",
      "metadata": {
        "id": "4PW1zFNO8ZDp",
        "colab_type": "code",
        "colab": {}
      },
      "source": [
        "# you can improve the result further. "
      ],
      "execution_count": 52,
      "outputs": []
    },
    {
      "cell_type": "code",
      "metadata": {
        "id": "YC7nxHc_mg75",
        "colab_type": "code",
        "colab": {}
      },
      "source": [
        "dis={0:'Basal Cell Carcinoma (BCC)',1:'Actinic Keratosis (ACK)',2:'Nevus (NEV)',\n",
        "3:'Seborrheic Keratosis (SEK)',4:'Squamous Cell Carcinoma (SCC)\t',5:'Melanoma (MEL)'}"
      ],
      "execution_count": 77,
      "outputs": []
    },
    {
      "cell_type": "code",
      "metadata": {
        "id": "GXX1K6HClIHv",
        "colab_type": "code",
        "colab": {
          "base_uri": "https://localhost:8080/",
          "height": 70
        },
        "outputId": "31788508-c3e4-4ec7-ca45-8b635dcb7f4b"
      },
      "source": [
        "img = Image.open('/content/data/PAT_1545_1867_547.png')\n",
        "img=img.convert(mode='RGB')\n",
        "image = aug(img)\n",
        "image=image.unsqueeze(0) #add another dimension at 0\n",
        "out=model(image.cuda())\n",
        "out=torch.mean(out,dim=0)\n",
        "print(out)\n",
        "out=out.detach().cpu().numpy()\n",
        "out=np.argmax(out)\n",
        "print(dis[out])"
      ],
      "execution_count": 78,
      "outputs": [
        {
          "output_type": "stream",
          "text": [
            "tensor([-0.5816, -1.8025, -2.7595, -3.9683, -1.7235, -4.1697], device='cuda:0',\n",
            "       grad_fn=<MeanBackward1>)\n",
            "Basal Cell Carcinoma (BCC)\n"
          ],
          "name": "stdout"
        }
      ]
    },
    {
      "cell_type": "code",
      "metadata": {
        "id": "M380S-wNmkpO",
        "colab_type": "code",
        "colab": {}
      },
      "source": [
        "model_cpu=torch.load('/content/skin_model.pth', map_location=lambda storage, loc: storage)"
      ],
      "execution_count": 61,
      "outputs": []
    },
    {
      "cell_type": "code",
      "metadata": {
        "id": "3Tq0BqlumpbB",
        "colab_type": "code",
        "colab": {
          "base_uri": "https://localhost:8080/",
          "height": 70
        },
        "outputId": "1f66b824-7d5d-4d9f-e07b-8009684c0c8d"
      },
      "source": [
        "img = Image.open('/content/data/PAT_1545_1867_547.png')\n",
        "img=img.convert(mode='RGB')\n",
        "image = aug(img)\n",
        "image=image.unsqueeze(0) #add another dimension at 0\n",
        "model_cpu.eval()\n",
        "out=model_cpu(image)\n",
        "out=torch.mean(out,dim=0)\n",
        "print(out)\n",
        "out=out.detach().numpy()\n",
        "out=np.argmax(out)\n",
        "print(dis[out])"
      ],
      "execution_count": 79,
      "outputs": [
        {
          "output_type": "stream",
          "text": [
            "tensor([-0.7410, -1.5777, -3.7733, -3.6542, -1.4247, -3.5950],\n",
            "       grad_fn=<MeanBackward1>)\n",
            "Basal Cell Carcinoma (BCC)\n"
          ],
          "name": "stdout"
        }
      ]
    },
    {
      "cell_type": "code",
      "metadata": {
        "id": "9Nrl0bk2lwZw",
        "colab_type": "code",
        "colab": {}
      },
      "source": [
        "img.save('ack.png')"
      ],
      "execution_count": 76,
      "outputs": []
    },
    {
      "cell_type": "code",
      "metadata": {
        "id": "YGh1-8zzliqt",
        "colab_type": "code",
        "colab": {}
      },
      "source": [
        "img.show()"
      ],
      "execution_count": 60,
      "outputs": []
    },
    {
      "cell_type": "code",
      "metadata": {
        "id": "ERrOnN2plSi7",
        "colab_type": "code",
        "colab": {
          "base_uri": "https://localhost:8080/",
          "height": 219
        },
        "outputId": "be3ffe4c-4970-4276-c133-0ff02af55ef9"
      },
      "source": [
        "df.head()"
      ],
      "execution_count": 53,
      "outputs": [
        {
          "output_type": "execute_result",
          "data": {
            "text/html": [
              "<div>\n",
              "<style scoped>\n",
              "    .dataframe tbody tr th:only-of-type {\n",
              "        vertical-align: middle;\n",
              "    }\n",
              "\n",
              "    .dataframe tbody tr th {\n",
              "        vertical-align: top;\n",
              "    }\n",
              "\n",
              "    .dataframe thead th {\n",
              "        text-align: right;\n",
              "    }\n",
              "</style>\n",
              "<table border=\"1\" class=\"dataframe\">\n",
              "  <thead>\n",
              "    <tr style=\"text-align: right;\">\n",
              "      <th></th>\n",
              "      <th>patient_id</th>\n",
              "      <th>lesion_id</th>\n",
              "      <th>smoke</th>\n",
              "      <th>drink</th>\n",
              "      <th>background_father</th>\n",
              "      <th>background_mother</th>\n",
              "      <th>age</th>\n",
              "      <th>pesticide</th>\n",
              "      <th>gender</th>\n",
              "      <th>skin_cancer_history</th>\n",
              "      <th>cancer_history</th>\n",
              "      <th>has_piped_water</th>\n",
              "      <th>has_sewage_system</th>\n",
              "      <th>fitspatrick</th>\n",
              "      <th>region</th>\n",
              "      <th>diameter_1</th>\n",
              "      <th>diameter_2</th>\n",
              "      <th>diagnostic</th>\n",
              "      <th>itch</th>\n",
              "      <th>grew</th>\n",
              "      <th>hurt</th>\n",
              "      <th>changed</th>\n",
              "      <th>bleed</th>\n",
              "      <th>elevation</th>\n",
              "      <th>img_id</th>\n",
              "      <th>biopsed</th>\n",
              "    </tr>\n",
              "  </thead>\n",
              "  <tbody>\n",
              "    <tr>\n",
              "      <th>0</th>\n",
              "      <td>PAT_1516</td>\n",
              "      <td>1765</td>\n",
              "      <td>NaN</td>\n",
              "      <td>NaN</td>\n",
              "      <td>NaN</td>\n",
              "      <td>NaN</td>\n",
              "      <td>8</td>\n",
              "      <td>NaN</td>\n",
              "      <td>NaN</td>\n",
              "      <td>NaN</td>\n",
              "      <td>NaN</td>\n",
              "      <td>NaN</td>\n",
              "      <td>NaN</td>\n",
              "      <td>NaN</td>\n",
              "      <td>ARM</td>\n",
              "      <td>NaN</td>\n",
              "      <td>NaN</td>\n",
              "      <td>NEV</td>\n",
              "      <td>False</td>\n",
              "      <td>False</td>\n",
              "      <td>False</td>\n",
              "      <td>False</td>\n",
              "      <td>False</td>\n",
              "      <td>False</td>\n",
              "      <td>PAT_1516_1765_530.png</td>\n",
              "      <td>False</td>\n",
              "    </tr>\n",
              "    <tr>\n",
              "      <th>1</th>\n",
              "      <td>PAT_46</td>\n",
              "      <td>881</td>\n",
              "      <td>False</td>\n",
              "      <td>False</td>\n",
              "      <td>POMERANIA</td>\n",
              "      <td>POMERANIA</td>\n",
              "      <td>55</td>\n",
              "      <td>False</td>\n",
              "      <td>FEMALE</td>\n",
              "      <td>True</td>\n",
              "      <td>True</td>\n",
              "      <td>True</td>\n",
              "      <td>True</td>\n",
              "      <td>3.0</td>\n",
              "      <td>NECK</td>\n",
              "      <td>6.0</td>\n",
              "      <td>5.0</td>\n",
              "      <td>BCC</td>\n",
              "      <td>True</td>\n",
              "      <td>True</td>\n",
              "      <td>False</td>\n",
              "      <td>True</td>\n",
              "      <td>True</td>\n",
              "      <td>True</td>\n",
              "      <td>PAT_46_881_939.png</td>\n",
              "      <td>True</td>\n",
              "    </tr>\n",
              "    <tr>\n",
              "      <th>2</th>\n",
              "      <td>PAT_1545</td>\n",
              "      <td>1867</td>\n",
              "      <td>NaN</td>\n",
              "      <td>NaN</td>\n",
              "      <td>NaN</td>\n",
              "      <td>NaN</td>\n",
              "      <td>77</td>\n",
              "      <td>NaN</td>\n",
              "      <td>NaN</td>\n",
              "      <td>NaN</td>\n",
              "      <td>NaN</td>\n",
              "      <td>NaN</td>\n",
              "      <td>NaN</td>\n",
              "      <td>NaN</td>\n",
              "      <td>FACE</td>\n",
              "      <td>NaN</td>\n",
              "      <td>NaN</td>\n",
              "      <td>ACK</td>\n",
              "      <td>True</td>\n",
              "      <td>False</td>\n",
              "      <td>False</td>\n",
              "      <td>False</td>\n",
              "      <td>False</td>\n",
              "      <td>False</td>\n",
              "      <td>PAT_1545_1867_547.png</td>\n",
              "      <td>False</td>\n",
              "    </tr>\n",
              "    <tr>\n",
              "      <th>3</th>\n",
              "      <td>PAT_1989</td>\n",
              "      <td>4061</td>\n",
              "      <td>NaN</td>\n",
              "      <td>NaN</td>\n",
              "      <td>NaN</td>\n",
              "      <td>NaN</td>\n",
              "      <td>75</td>\n",
              "      <td>NaN</td>\n",
              "      <td>NaN</td>\n",
              "      <td>NaN</td>\n",
              "      <td>NaN</td>\n",
              "      <td>NaN</td>\n",
              "      <td>NaN</td>\n",
              "      <td>NaN</td>\n",
              "      <td>HAND</td>\n",
              "      <td>NaN</td>\n",
              "      <td>NaN</td>\n",
              "      <td>ACK</td>\n",
              "      <td>True</td>\n",
              "      <td>False</td>\n",
              "      <td>False</td>\n",
              "      <td>False</td>\n",
              "      <td>False</td>\n",
              "      <td>False</td>\n",
              "      <td>PAT_1989_4061_934.png</td>\n",
              "      <td>False</td>\n",
              "    </tr>\n",
              "    <tr>\n",
              "      <th>4</th>\n",
              "      <td>PAT_684</td>\n",
              "      <td>1302</td>\n",
              "      <td>False</td>\n",
              "      <td>True</td>\n",
              "      <td>POMERANIA</td>\n",
              "      <td>POMERANIA</td>\n",
              "      <td>79</td>\n",
              "      <td>False</td>\n",
              "      <td>MALE</td>\n",
              "      <td>True</td>\n",
              "      <td>False</td>\n",
              "      <td>False</td>\n",
              "      <td>False</td>\n",
              "      <td>1.0</td>\n",
              "      <td>FOREARM</td>\n",
              "      <td>5.0</td>\n",
              "      <td>5.0</td>\n",
              "      <td>BCC</td>\n",
              "      <td>True</td>\n",
              "      <td>True</td>\n",
              "      <td>False</td>\n",
              "      <td>False</td>\n",
              "      <td>True</td>\n",
              "      <td>True</td>\n",
              "      <td>PAT_684_1302_588.png</td>\n",
              "      <td>True</td>\n",
              "    </tr>\n",
              "  </tbody>\n",
              "</table>\n",
              "</div>"
            ],
            "text/plain": [
              "  patient_id  lesion_id  smoke  ... elevation                 img_id biopsed\n",
              "0   PAT_1516       1765    NaN  ...     False  PAT_1516_1765_530.png   False\n",
              "1     PAT_46        881  False  ...      True     PAT_46_881_939.png    True\n",
              "2   PAT_1545       1867    NaN  ...     False  PAT_1545_1867_547.png   False\n",
              "3   PAT_1989       4061    NaN  ...     False  PAT_1989_4061_934.png   False\n",
              "4    PAT_684       1302  False  ...      True   PAT_684_1302_588.png    True\n",
              "\n",
              "[5 rows x 26 columns]"
            ]
          },
          "metadata": {
            "tags": []
          },
          "execution_count": 53
        }
      ]
    },
    {
      "cell_type": "code",
      "metadata": {
        "id": "XzXKzsx7lS8Y",
        "colab_type": "code",
        "colab": {
          "base_uri": "https://localhost:8080/",
          "height": 34
        },
        "outputId": "d55952b4-e1cd-4147-bea7-67cb336aa62f"
      },
      "source": [
        "model.eval()\n",
        "with torch.no_grad():\n",
        "  for img,grnd_label in test_loader:\n",
        "    print(img.shape)\n",
        "    test_pred=model_cpu(img)"
      ],
      "execution_count": 67,
      "outputs": [
        {
          "output_type": "stream",
          "text": [
            "torch.Size([230, 3, 224, 224])\n"
          ],
          "name": "stdout"
        }
      ]
    },
    {
      "cell_type": "code",
      "metadata": {
        "id": "EJY8nE5BoBqS",
        "colab_type": "code",
        "colab": {
          "base_uri": "https://localhost:8080/",
          "height": 34
        },
        "outputId": "2111d9f1-bffd-414d-eccc-424f2a000286"
      },
      "source": [
        "test_pred.dtype"
      ],
      "execution_count": 69,
      "outputs": [
        {
          "output_type": "execute_result",
          "data": {
            "text/plain": [
              "torch.float32"
            ]
          },
          "metadata": {
            "tags": []
          },
          "execution_count": 69
        }
      ]
    },
    {
      "cell_type": "code",
      "metadata": {
        "id": "9BSEKK2onpXV",
        "colab_type": "code",
        "colab": {}
      },
      "source": [
        "y_pred=torch.max(test_pred,dim=1)"
      ],
      "execution_count": 70,
      "outputs": []
    },
    {
      "cell_type": "code",
      "metadata": {
        "id": "kFQeRmMUoMZX",
        "colab_type": "code",
        "colab": {}
      },
      "source": [
        "y_pred=y_pred[1].cpu().numpy()\n",
        "grnd_label=grnd_label.numpy()"
      ],
      "execution_count": 71,
      "outputs": []
    },
    {
      "cell_type": "code",
      "metadata": {
        "id": "KSOloJNMn0hJ",
        "colab_type": "code",
        "colab": {
          "base_uri": "https://localhost:8080/",
          "height": 245
        },
        "outputId": "c62ea20e-e09f-46cb-a1cd-e300b8c2aa98"
      },
      "source": [
        "from sklearn.metrics import classification_report\n",
        "print(classification_report(grnd_label,y_pred))\n"
      ],
      "execution_count": 72,
      "outputs": [
        {
          "output_type": "stream",
          "text": [
            "              precision    recall  f1-score   support\n",
            "\n",
            "           0       0.73      0.80      0.76        88\n",
            "           1       0.66      0.73      0.70        64\n",
            "           2       0.85      0.63      0.72        27\n",
            "           3       0.59      0.68      0.63        25\n",
            "           4       0.40      0.19      0.26        21\n",
            "           5       0.50      0.40      0.44         5\n",
            "\n",
            "    accuracy                           0.68       230\n",
            "   macro avg       0.62      0.57      0.59       230\n",
            "weighted avg       0.67      0.68      0.67       230\n",
            "\n"
          ],
          "name": "stdout"
        }
      ]
    },
    {
      "cell_type": "code",
      "metadata": {
        "id": "_Jv9uyGboP9K",
        "colab_type": "code",
        "colab": {}
      },
      "source": [
        ""
      ],
      "execution_count": null,
      "outputs": []
    }
  ]
}